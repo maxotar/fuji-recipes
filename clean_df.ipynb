{
 "cells": [
  {
   "cell_type": "code",
   "execution_count": 375,
   "metadata": {},
   "outputs": [],
   "source": [
    "import pandas as pd\n",
    "import numpy as np\n",
    "\n",
    "from settings import *\n",
    "\n",
    "df = pd.read_json(\n",
    "    PATH_RECIPES_JSON,\n",
    "    orient=\"records\",\n",
    ")\n",
    "assert isinstance(df, pd.DataFrame)\n"
   ]
  },
  {
   "cell_type": "code",
   "execution_count": 376,
   "metadata": {},
   "outputs": [
    {
     "data": {
      "text/plain": [
       "(152, 19)"
      ]
     },
     "execution_count": 376,
     "metadata": {},
     "output_type": "execute_result"
    }
   ],
   "source": [
    "df.shape\n"
   ]
  },
  {
   "cell_type": "code",
   "execution_count": 377,
   "metadata": {},
   "outputs": [
    {
     "data": {
      "text/plain": [
       "['simulation',\n",
       " 'dynamic range',\n",
       " 'highlight',\n",
       " 'shadow',\n",
       " 'noise reduction',\n",
       " 'sharpening',\n",
       " 'grain effect',\n",
       " 'color chrome effect',\n",
       " 'white balance',\n",
       " 'iso',\n",
       " 'p_html',\n",
       " 'p_strings',\n",
       " 'name',\n",
       " 'date',\n",
       " 'link',\n",
       " 'exposure compensation',\n",
       " 'sharpness',\n",
       " 'clarity',\n",
       " 'color chrome effect blue']"
      ]
     },
     "execution_count": 377,
     "metadata": {},
     "output_type": "execute_result"
    }
   ],
   "source": [
    "list(df)\n"
   ]
  },
  {
   "cell_type": "code",
   "execution_count": 378,
   "metadata": {},
   "outputs": [
    {
     "data": {
      "text/plain": [
       "simulation                          object\n",
       "dynamic range                       object\n",
       "highlight                          float64\n",
       "shadow                             float64\n",
       "noise reduction                    float64\n",
       "sharpening                         float64\n",
       "grain effect                        object\n",
       "color chrome effect                 object\n",
       "white balance                       object\n",
       "iso                                 object\n",
       "p_html                              object\n",
       "p_strings                           object\n",
       "name                                object\n",
       "date                        datetime64[ns]\n",
       "link                                object\n",
       "exposure compensation               object\n",
       "sharpness                          float64\n",
       "clarity                            float64\n",
       "color chrome effect blue            object\n",
       "dtype: object"
      ]
     },
     "execution_count": 378,
     "metadata": {},
     "output_type": "execute_result"
    }
   ],
   "source": [
    "df.dtypes\n"
   ]
  },
  {
   "cell_type": "code",
   "execution_count": 379,
   "metadata": {},
   "outputs": [
    {
     "data": {
      "text/html": [
       "<div>\n",
       "<style scoped>\n",
       "    .dataframe tbody tr th:only-of-type {\n",
       "        vertical-align: middle;\n",
       "    }\n",
       "\n",
       "    .dataframe tbody tr th {\n",
       "        vertical-align: top;\n",
       "    }\n",
       "\n",
       "    .dataframe thead th {\n",
       "        text-align: right;\n",
       "    }\n",
       "</style>\n",
       "<table border=\"1\" class=\"dataframe\">\n",
       "  <thead>\n",
       "    <tr style=\"text-align: right;\">\n",
       "      <th></th>\n",
       "      <th>highlight</th>\n",
       "      <th>shadow</th>\n",
       "      <th>noise reduction</th>\n",
       "      <th>sharpening</th>\n",
       "      <th>sharpness</th>\n",
       "      <th>clarity</th>\n",
       "    </tr>\n",
       "  </thead>\n",
       "  <tbody>\n",
       "    <tr>\n",
       "      <th>count</th>\n",
       "      <td>148.000000</td>\n",
       "      <td>148.000000</td>\n",
       "      <td>151.000000</td>\n",
       "      <td>103.000000</td>\n",
       "      <td>48.000000</td>\n",
       "      <td>99.000000</td>\n",
       "    </tr>\n",
       "    <tr>\n",
       "      <th>mean</th>\n",
       "      <td>0.635135</td>\n",
       "      <td>1.118243</td>\n",
       "      <td>-3.947020</td>\n",
       "      <td>-0.669903</td>\n",
       "      <td>-1.229167</td>\n",
       "      <td>-1.515152</td>\n",
       "    </tr>\n",
       "    <tr>\n",
       "      <th>std</th>\n",
       "      <td>1.909157</td>\n",
       "      <td>1.986657</td>\n",
       "      <td>0.513655</td>\n",
       "      <td>1.859730</td>\n",
       "      <td>1.308557</td>\n",
       "      <td>2.826130</td>\n",
       "    </tr>\n",
       "    <tr>\n",
       "      <th>min</th>\n",
       "      <td>-2.000000</td>\n",
       "      <td>-2.000000</td>\n",
       "      <td>-4.000000</td>\n",
       "      <td>-4.000000</td>\n",
       "      <td>-4.000000</td>\n",
       "      <td>-5.000000</td>\n",
       "    </tr>\n",
       "    <tr>\n",
       "      <th>25%</th>\n",
       "      <td>-1.000000</td>\n",
       "      <td>-0.500000</td>\n",
       "      <td>-4.000000</td>\n",
       "      <td>-2.000000</td>\n",
       "      <td>-2.000000</td>\n",
       "      <td>-3.500000</td>\n",
       "    </tr>\n",
       "    <tr>\n",
       "      <th>50%</th>\n",
       "      <td>0.000000</td>\n",
       "      <td>1.000000</td>\n",
       "      <td>-4.000000</td>\n",
       "      <td>-1.000000</td>\n",
       "      <td>-1.000000</td>\n",
       "      <td>-2.000000</td>\n",
       "    </tr>\n",
       "    <tr>\n",
       "      <th>75%</th>\n",
       "      <td>2.000000</td>\n",
       "      <td>3.000000</td>\n",
       "      <td>-4.000000</td>\n",
       "      <td>1.000000</td>\n",
       "      <td>0.000000</td>\n",
       "      <td>0.000000</td>\n",
       "    </tr>\n",
       "    <tr>\n",
       "      <th>max</th>\n",
       "      <td>4.000000</td>\n",
       "      <td>4.000000</td>\n",
       "      <td>2.000000</td>\n",
       "      <td>4.000000</td>\n",
       "      <td>1.000000</td>\n",
       "      <td>5.000000</td>\n",
       "    </tr>\n",
       "  </tbody>\n",
       "</table>\n",
       "</div>"
      ],
      "text/plain": [
       "        highlight      shadow  noise reduction  sharpening  sharpness  \\\n",
       "count  148.000000  148.000000       151.000000  103.000000  48.000000   \n",
       "mean     0.635135    1.118243        -3.947020   -0.669903  -1.229167   \n",
       "std      1.909157    1.986657         0.513655    1.859730   1.308557   \n",
       "min     -2.000000   -2.000000        -4.000000   -4.000000  -4.000000   \n",
       "25%     -1.000000   -0.500000        -4.000000   -2.000000  -2.000000   \n",
       "50%      0.000000    1.000000        -4.000000   -1.000000  -1.000000   \n",
       "75%      2.000000    3.000000        -4.000000    1.000000   0.000000   \n",
       "max      4.000000    4.000000         2.000000    4.000000   1.000000   \n",
       "\n",
       "         clarity  \n",
       "count  99.000000  \n",
       "mean   -1.515152  \n",
       "std     2.826130  \n",
       "min    -5.000000  \n",
       "25%    -3.500000  \n",
       "50%    -2.000000  \n",
       "75%     0.000000  \n",
       "max     5.000000  "
      ]
     },
     "execution_count": 379,
     "metadata": {},
     "output_type": "execute_result"
    }
   ],
   "source": [
    "df.describe()\n"
   ]
  },
  {
   "cell_type": "markdown",
   "metadata": {},
   "source": [
    "# simulation"
   ]
  },
  {
   "cell_type": "code",
   "execution_count": 380,
   "metadata": {},
   "outputs": [
    {
     "name": "stdout",
     "output_type": "stream",
     "text": [
      "['eterna' 'acros' 'velvia' 'pro neg. std' 'classic chrome' 'astia'\n",
      " 'pro neg. hi' 'provia' 'monochrome' 'acros+r' 'classic negative' nan\n",
      " 'acros+g' 'monochrome+g' 'eterna bleach bypass' 'acros+y']\n",
      "\n",
      "missing simulation\n",
      "45    Sepia\n",
      "Name: name, dtype: object\n"
     ]
    },
    {
     "data": {
      "text/plain": [
       "<AxesSubplot: >"
      ]
     },
     "execution_count": 380,
     "metadata": {},
     "output_type": "execute_result"
    },
    {
     "data": {
      "image/png": "[encoded data removed]",
      "text/plain": [
       "<Figure size 640x480 with 1 Axes>"
      ]
     },
     "metadata": {},
     "output_type": "display_data"
    }
   ],
   "source": [
    "# print unique values\n",
    "print(df.simulation.unique())\n",
    "\n",
    "print()\n",
    "print(\"missing simulation\")\n",
    "print(df[df.simulation.isna()][\"name\"])\n",
    "\n",
    "df.simulation.hist()\n"
   ]
  },
  {
   "cell_type": "markdown",
   "metadata": {},
   "source": [
    "# sharpness"
   ]
  },
  {
   "cell_type": "code",
   "execution_count": 381,
   "metadata": {},
   "outputs": [
    {
     "name": "stdout",
     "output_type": "stream",
     "text": [
      "[-4, -3, -2, -1, 0, 1, 2, 3, 4]\n"
     ]
    },
    {
     "data": {
      "text/plain": [
       "<AxesSubplot: >"
      ]
     },
     "execution_count": 381,
     "metadata": {},
     "output_type": "execute_result"
    },
    {
     "data": {
      "image/png": "[encoded data removed]",
      "text/plain": [
       "<Figure size 640x480 with 1 Axes>"
      ]
     },
     "metadata": {},
     "output_type": "display_data"
    }
   ],
   "source": [
    "# fillna with sharpening values\n",
    "df.sharpness.fillna(value=df.sharpening, inplace=True)\n",
    "\n",
    "# fill na with 0\n",
    "df.sharpness.fillna(value=0, inplace=True)\n",
    "\n",
    "# drop sharpening\n",
    "df.drop(columns=[\"sharpening\"], inplace=True)\n",
    "\n",
    "# convert to int\n",
    "df.sharpness = df.sharpness.astype(\"int\")\n",
    "\n",
    "# print unique values\n",
    "print(sorted(df.sharpness.unique()))\n",
    "\n",
    "df.sharpness.hist(bins=np.arange(-4, 5))"
   ]
  },
  {
   "cell_type": "markdown",
   "metadata": {},
   "source": [
    "# clarity"
   ]
  },
  {
   "cell_type": "code",
   "execution_count": 382,
   "metadata": {},
   "outputs": [
    {
     "name": "stdout",
     "output_type": "stream",
     "text": [
      "[-5, -4, -3, -2, 0, 1, 2, 3, 4, 5]\n"
     ]
    },
    {
     "data": {
      "text/plain": [
       "<AxesSubplot: >"
      ]
     },
     "execution_count": 382,
     "metadata": {},
     "output_type": "execute_result"
    },
    {
     "data": {
      "image/png": "[encoded data removed]",
      "text/plain": [
       "<Figure size 640x480 with 1 Axes>"
      ]
     },
     "metadata": {},
     "output_type": "display_data"
    }
   ],
   "source": [
    "# fill na with 0\n",
    "df.clarity.fillna(value=0, inplace=True)\n",
    "\n",
    "# convert to int\n",
    "df.clarity = df.clarity.astype(\"int\")\n",
    "\n",
    "# print unique values\n",
    "print(sorted(df.clarity.unique()))\n",
    "\n",
    "df.clarity.hist(bins=np.arange(-5, 6))\n"
   ]
  },
  {
   "cell_type": "markdown",
   "metadata": {},
   "source": [
    "# noise reduction"
   ]
  },
  {
   "cell_type": "code",
   "execution_count": 383,
   "metadata": {},
   "outputs": [
    {
     "name": "stdout",
     "output_type": "stream",
     "text": [
      "[-4, -2, 0, 2]\n"
     ]
    },
    {
     "data": {
      "text/plain": [
       "<AxesSubplot: >"
      ]
     },
     "execution_count": 383,
     "metadata": {},
     "output_type": "execute_result"
    },
    {
     "data": {
      "image/png": "[encoded data removed]",
      "text/plain": [
       "<Figure size 640x480 with 1 Axes>"
      ]
     },
     "metadata": {},
     "output_type": "display_data"
    }
   ],
   "source": [
    "# fill na with 0\n",
    "df[\"noise reduction\"].fillna(value=0, inplace=True)\n",
    "\n",
    "# convert to int\n",
    "df[\"noise reduction\"] = df[\"noise reduction\"].astype(\"int\")\n",
    "\n",
    "# print unique values\n",
    "print(sorted(df[\"noise reduction\"].unique()))\n",
    "\n",
    "df[\"noise reduction\"].hist(bins=np.arange(-4, 5))\n"
   ]
  },
  {
   "cell_type": "markdown",
   "metadata": {},
   "source": [
    "# shadow"
   ]
  },
  {
   "cell_type": "code",
   "execution_count": 384,
   "metadata": {},
   "outputs": [
    {
     "name": "stdout",
     "output_type": "stream",
     "text": [
      "[ 4.   1.   2.  -1.   3.   0.  -2.   nan  1.5  2.5 -0.5 -1.5]\n",
      "                        name  shadow\n",
      "45                     Sepia     NaN\n",
      "96           Scanned Superia     NaN\n",
      "97              Portra-Style     NaN\n",
      "98  Pulled Fujicolor Superia     NaN\n"
     ]
    },
    {
     "data": {
      "image/png": "[encoded data removed]",
      "text/plain": [
       "<Figure size 640x480 with 1 Axes>"
      ]
     },
     "metadata": {},
     "output_type": "display_data"
    }
   ],
   "source": [
    "# print unique values\n",
    "print(df.shadow.unique())\n",
    "\n",
    "df[df.shadow.notna()][\"shadow\"].hist(bins=np.arange(-2, 5, 0.5))\n",
    "\n",
    "no_shadow = df[df.shadow.isna()][[\"name\", \"shadow\"]]\n",
    "print(no_shadow)\n",
    "\n",
    "# fill nan with n/a\n",
    "df.loc[df.shadow.isna(), [\"shadow\"]] = \"n/a\""
   ]
  },
  {
   "cell_type": "markdown",
   "metadata": {},
   "source": [
    "# highlight"
   ]
  },
  {
   "cell_type": "code",
   "execution_count": 392,
   "metadata": {},
   "outputs": [
    {
     "name": "stdout",
     "output_type": "stream",
     "text": [
      "[ 4.  -2.   0.   3.   1.  -1.   2.   nan  0.5 -0.5  3.5 -1.5]\n",
      "                        name  highlight\n",
      "45                     Sepia        NaN\n",
      "96           Scanned Superia        NaN\n",
      "97              Portra-Style        NaN\n",
      "98  Pulled Fujicolor Superia        NaN\n"
     ]
    },
    {
     "data": {
      "image/png": "[encoded data removed]",
      "text/plain": [
       "<Figure size 640x480 with 1 Axes>"
      ]
     },
     "metadata": {},
     "output_type": "display_data"
    }
   ],
   "source": [
    "# print unique values\n",
    "print(df.highlight.unique())\n",
    "\n",
    "df[df.highlight.notna()][\"highlight\"].hist(bins=np.arange(-2, 5, 0.5))\n",
    "\n",
    "no_highlight = df[df.highlight.isna()][[\"name\", \"highlight\"]]\n",
    "print(no_highlight)\n",
    "\n",
    "# fill nan with n/a\n",
    "df.loc[df.highlight.isna(), [\"highlight\"]] = \"n/a\""
   ]
  },
  {
   "cell_type": "markdown",
   "metadata": {},
   "source": [
    "# "
   ]
  },
  {
   "cell_type": "markdown",
   "metadata": {},
   "source": [
    "# color chrome effect blue"
   ]
  },
  {
   "cell_type": "code",
   "execution_count": 386,
   "metadata": {},
   "outputs": [
    {
     "name": "stdout",
     "output_type": "stream",
     "text": [
      "['off', 'strong', 'weak']\n"
     ]
    },
    {
     "data": {
      "text/plain": [
       "<AxesSubplot: >"
      ]
     },
     "execution_count": 386,
     "metadata": {},
     "output_type": "execute_result"
    },
    {
     "data": {
      "image/png": "[encoded data removed]",
      "text/plain": [
       "<Figure size 640x480 with 1 Axes>"
      ]
     },
     "metadata": {},
     "output_type": "display_data"
    }
   ],
   "source": [
    "# fill nan with off\n",
    "df[\"color chrome effect blue\"].fillna(\"off\", inplace=True)\n",
    "\n",
    "# print unique values\n",
    "print(sorted(df[\"color chrome effect blue\"].unique()))\n",
    "\n",
    "df[\"color chrome effect blue\"].hist()\n"
   ]
  },
  {
   "cell_type": "markdown",
   "metadata": {},
   "source": [
    "# color chrome effect"
   ]
  },
  {
   "cell_type": "code",
   "execution_count": 387,
   "metadata": {},
   "outputs": [
    {
     "data": {
      "text/plain": [
       "<AxesSubplot: >"
      ]
     },
     "execution_count": 387,
     "metadata": {},
     "output_type": "execute_result"
    },
    {
     "data": {
      "image/png": "[encoded data removed]",
      "text/plain": [
       "<Figure size 640x480 with 1 Axes>"
      ]
     },
     "metadata": {},
     "output_type": "display_data"
    }
   ],
   "source": [
    "# off for not weak and not strong\n",
    "cce_off = (df[\"color chrome effect\"] != \"weak\") & (\n",
    "    df[\"color chrome effect\"] != \"strong\"\n",
    ")\n",
    "df.loc[cce_off, [\"color chrome effect\"]] = \"off\"\n",
    "\n",
    "df[\"color chrome effect\"].hist()\n"
   ]
  },
  {
   "cell_type": "markdown",
   "metadata": {},
   "source": [
    "# grain effect"
   ]
  },
  {
   "cell_type": "code",
   "execution_count": 388,
   "metadata": {},
   "outputs": [
    {
     "name": "stdout",
     "output_type": "stream",
     "text": [
      "['off', 'strong', 'strong, large', 'strong, small', 'weak', 'weak, large', 'weak, small']\n"
     ]
    }
   ],
   "source": [
    "# fillna with off\n",
    "df[\"grain effect\"].fillna(\"off\",inplace=True)\n",
    "\n",
    "# print unique values\n",
    "print(sorted(df[\"grain effect\"].unique()))"
   ]
  },
  {
   "cell_type": "code",
   "execution_count": 389,
   "metadata": {},
   "outputs": [
    {
     "data": {
      "text/plain": [
       "<AxesSubplot: >"
      ]
     },
     "execution_count": 389,
     "metadata": {},
     "output_type": "execute_result"
    },
    {
     "data": {
      "image/png": "[encoded data removed]",
      "text/plain": [
       "<Figure size 640x480 with 1 Axes>"
      ]
     },
     "metadata": {},
     "output_type": "display_data"
    }
   ],
   "source": [
    "# build grain strength\n",
    "df[\"grain strength\"] = \"off\"\n",
    "\n",
    "grain_strong = (df[\"grain effect\"] == \"strong\") | (df[\"grain effect\"] == \"strong, small\") | (df[\"grain effect\"] == \"strong, large\") \n",
    "df.loc[grain_strong, [\"grain strength\"]] = \"strong\"\n",
    "\n",
    "grain_weak = (df[\"grain effect\"] == \"weak\") | (df[\"grain effect\"] == \"weak, small\") | (df[\"grain effect\"] == \"weak, large\") \n",
    "df.loc[grain_weak, [\"grain strength\"]] = \"weak\"\n",
    "\n",
    "df[\"grain strength\"].hist()"
   ]
  },
  {
   "cell_type": "code",
   "execution_count": 390,
   "metadata": {},
   "outputs": [
    {
     "data": {
      "text/plain": [
       "<AxesSubplot: >"
      ]
     },
     "execution_count": 390,
     "metadata": {},
     "output_type": "execute_result"
    },
    {
     "data": {
      "image/png": "[encoded data removed]",
      "text/plain": [
       "<Figure size 640x480 with 1 Axes>"
      ]
     },
     "metadata": {},
     "output_type": "display_data"
    }
   ],
   "source": [
    "# build grain size\n",
    "df[\"grain size\"] = \"n/a\"\n",
    "\n",
    "grain_small = (df[\"grain effect\"] == \"weak, small\") | (df[\"grain effect\"] == \"strong, small\")\n",
    "df.loc[grain_small, [\"grain size\"]] = \"small\"\n",
    "\n",
    "grain_large = (df[\"grain effect\"] == \"weak, large\") | (df[\"grain effect\"] == \"strong, large\")\n",
    "df.loc[grain_large, [\"grain size\"]] = \"large\"\n",
    "\n",
    "grain_either = (df[\"grain effect\"] == \"weak\") | (df[\"grain effect\"] == \"strong\")\n",
    "df.loc[grain_either, [\"grain size\"]] = \"small or large\"\n",
    "\n",
    "df[\"grain size\"].hist()"
   ]
  },
  {
   "cell_type": "markdown",
   "metadata": {},
   "source": [
    "# exposure compensation"
   ]
  },
  {
   "cell_type": "code",
   "execution_count": 394,
   "metadata": {},
   "outputs": [
    {
     "name": "stdout",
     "output_type": "stream",
     "text": [
      "+1 2/3 to +2 1/3\n",
      "+1 to +1 2/3\n",
      "+1 to +1 2/3, but try between +1/3 to +2 2/3\n",
      "+1 to +2\n",
      "+1/3\n",
      "+1/3 to +1\n",
      "+1/3 to +1 (main exposure), 0 to -2 (second exposure)\n",
      "+1/3 to +2/3\n",
      "+2/3 to + 1-1/3\n",
      "+2/3 to +1\n",
      "+2/3 to +1 1/3\n",
      "+2/3 to +1 1/3 for the 1st exposure, 0 to +1/3 for the 2nd exposure\n",
      "+2/3 to +1-1/3\n",
      "-1 to 0\n",
      "-1/3 to +1/3\n",
      "-1/3 to +2/3\n",
      "-1/3 to -1\n",
      "-1/3 to -2/3\n",
      "-2/3 to +1\n",
      "-2/3 to +2/3\n",
      "-2/3 to -1 1/3\n",
      "0\n",
      "0 to +1\n",
      "0 to +1/3\n",
      "0 to +2/3\n",
      "0 to -1\n",
      "0 to -2/3\n"
     ]
    }
   ],
   "source": [
    "# fill nan with 0\n",
    "df[\"exposure compensation\"].fillna(\"0\",inplace=True)\n",
    "\n",
    "# fill blank with 0\n",
    "df.loc[df[\"exposure compensation\"] == \"\", [\"exposure compensation\"]] = \"0\"\n",
    "\n",
    "# remove ` (typically)`\n",
    "df[\"exposure compensation\"] = df[\"exposure compensation\"].str.replace(\" (typically)\",\"\",regex=False)\n",
    "\n",
    "# print unique values\n",
    "# print(*sorted(df[\"exposure compensation\"].unique()),sep=\"\\n\")"
   ]
  },
  {
   "cell_type": "markdown",
   "metadata": {},
   "source": [
    "# dynamic range"
   ]
  },
  {
   "cell_type": "code",
   "execution_count": 399,
   "metadata": {},
   "outputs": [
    {
     "name": "stdout",
     "output_type": "stream",
     "text": [
      "dr100\n",
      "dr400\n",
      "dr-auto\n",
      "dr200\n",
      "d-range priority auto\n",
      "d-range priority strong\n"
     ]
    },
    {
     "data": {
      "text/plain": [
       "<AxesSubplot: >"
      ]
     },
     "execution_count": 399,
     "metadata": {},
     "output_type": "execute_result"
    },
    {
     "data": {
      "image/png": "[encoded data removed]",
      "text/plain": [
       "<Figure size 640x480 with 1 Axes>"
      ]
     },
     "metadata": {},
     "output_type": "display_data"
    }
   ],
   "source": [
    "# fill n/a with dr-auto\n",
    "df.loc[df[\"dynamic range\"] == \"n/a\", [\"dynamic range\"]] = \"dr-auto\"\n",
    "\n",
    "# replace blank with dr-auto\n",
    "df.loc[df[\"dynamic range\"] == \"\", [\"dynamic range\"]] = \"dr-auto\"\n",
    "\n",
    "# fill nan with dr-auto\n",
    "df[\"dynamic range\"].fillna(\"dr-auto\", inplace=True)\n",
    "\n",
    "# remove verbose setting\n",
    "df[\"dynamic range\"] = df[\"dynamic range\"].str.replace(\"dr400 (dr200 in low contrast situations)\", \"dr400\", regex=False)\n",
    "\n",
    "# print unique values\n",
    "print(*df[\"dynamic range\"].unique(),sep=\"\\n\")\n",
    "\n",
    "df[\"dynamic range\"].hist()"
   ]
  }
 ],
 "metadata": {
  "kernelspec": {
   "display_name": "Python 3.11.0 64-bit",
   "language": "python",
   "name": "python3"
  },
  "language_info": {
   "codemirror_mode": {
    "name": "ipython",
    "version": 3
   },
   "file_extension": ".py",
   "mimetype": "text/x-python",
   "name": "python",
   "nbconvert_exporter": "python",
   "pygments_lexer": "ipython3",
   "version": "3.11.0"
  },
  "orig_nbformat": 4,
  "vscode": {
   "interpreter": {
    "hash": "3b3b46b69f0eab1a7469be54fbee33e2fe54db998c9744086424801813318979"
   }
  }
 },
 "nbformat": 4,
 "nbformat_minor": 2
}
